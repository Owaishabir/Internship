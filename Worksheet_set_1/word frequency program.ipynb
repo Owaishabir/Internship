{
 "cells": [
  {
   "cell_type": "code",
   "execution_count": 10,
   "id": "712272c7",
   "metadata": {},
   "outputs": [
    {
     "name": "stdout",
     "output_type": "stream",
     "text": [
      "Count of all characters in test_word is :\n",
      " {'f': 2, 'l': 2, 'i': 2, 'p': 2, 'r': 1, 'o': 2, 'b': 1}\n"
     ]
    }
   ],
   "source": [
    "test_word = \"fliproboflip\"\n",
    "   \n",
    "frequency = {}\n",
    "  \n",
    "for i in test_word:\n",
    "    if i in frequency:\n",
    "        frequency[i] += 1\n",
    "    else:\n",
    "        frequency[i] = 1\n",
    "  \n",
    "\n",
    "print (\"Count of all characters in test_word is :\\n \"\n",
    "                                        +  str(frequency))\n",
    "\n"
   ]
  },
  {
   "cell_type": "code",
   "execution_count": null,
   "id": "9ca7755b",
   "metadata": {},
   "outputs": [],
   "source": []
  }
 ],
 "metadata": {
  "kernelspec": {
   "display_name": "Python 3 (ipykernel)",
   "language": "python",
   "name": "python3"
  },
  "language_info": {
   "codemirror_mode": {
    "name": "ipython",
    "version": 3
   },
   "file_extension": ".py",
   "mimetype": "text/x-python",
   "name": "python",
   "nbconvert_exporter": "python",
   "pygments_lexer": "ipython3",
   "version": "3.9.7"
  }
 },
 "nbformat": 4,
 "nbformat_minor": 5
}
