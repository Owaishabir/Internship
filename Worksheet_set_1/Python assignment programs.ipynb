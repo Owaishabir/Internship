{
 "cells": [
  {
   "cell_type": "code",
   "execution_count": 2,
   "id": "6f8be425",
   "metadata": {},
   "outputs": [
    {
     "name": "stdout",
     "output_type": "stream",
     "text": [
      "enter your number 10\n",
      "Factorial of 10 = 3628800\n"
     ]
    }
   ],
   "source": [
    "# 11. Write a python program to find the factorial of a number\n",
    "\n",
    "number = int(input(\"enter your number \"))\n",
    "factorial = 1\n",
    "\n",
    "if number < 0:\n",
    "   print(\"It is negative number\")\n",
    "elif number == 0:\n",
    "   print(\"zero factorial = 1\")\n",
    "else:\n",
    "   for i in range(1,number + 1):\n",
    "       factorial = factorial*i\n",
    "   print(\"Factorial of\",number,\"=\",factorial)\n"
   ]
  },
  {
   "cell_type": "code",
   "execution_count": 11,
   "id": "c6313d49",
   "metadata": {},
   "outputs": [
    {
     "name": "stdout",
     "output_type": "stream",
     "text": [
      "Enter any number:10\n",
      "10 is not prime but composite number\n"
     ]
    }
   ],
   "source": [
    "# 12. Write a python program to find whether a number is prime or composite….\n",
    "num = int(input(\"Enter any number:\"))\n",
    "if(num == 0 or num == 1):\n",
    "    print(num,\"Number is neither prime nor composite\")\n",
    "elif num>1 :\n",
    "    for i in range(2,num):\n",
    "        if(num%i == 0):\n",
    "            print(num,\"is not prime but composite number\")\n",
    "            break\n",
    "    else:\n",
    "        print(num,\"number is prime but not composite number\")\n",
    "else :\n",
    "    print(\"Please enter positive number only \")"
   ]
  },
  {
   "cell_type": "code",
   "execution_count": 13,
   "id": "a411fed4",
   "metadata": {},
   "outputs": [
    {
     "name": "stdout",
     "output_type": "stream",
     "text": [
      "No\n"
     ]
    }
   ],
   "source": [
    "# 13.\tWrite a python program to check whether a given string is palindrome or not\n",
    "\n",
    "def isPalindrome(str):\n",
    " \n",
    "    for i in range(0, int(len(str)/2)):\n",
    "        if str[i] != str[len(str)-i-1]:\n",
    "            return False\n",
    "    return True\n",
    " \n",
    "s = \"owais\"\n",
    "ans = isPalindrome(s)\n",
    " \n",
    "if (ans):\n",
    "    print(\"Yes\")\n",
    "else:\n",
    "    print(\"No\")"
   ]
  },
  {
   "cell_type": "code",
   "execution_count": 15,
   "id": "284243d2",
   "metadata": {},
   "outputs": [
    {
     "name": "stdout",
     "output_type": "stream",
     "text": [
      "Hypotenuse = 5.0\n",
      "Adjacent = 4.0\n",
      "Opposite = 3.0\n",
      "This is the answer!\n"
     ]
    }
   ],
   "source": [
    "# 14.\tWrite a Python program to get the third side of right-angled triangle from two given sides. \n",
    "\n",
    "def pythagoras(opposite_side,adjacent_side,hypotenuse):\n",
    "        if opposite_side == str(\"x\"):\n",
    "            return (\"Opposite = \" + str(((hypotenuse**2) - (adjacent_side**2))**0.5))\n",
    "        elif adjacent_side == str(\"x\"):\n",
    "            return (\"Adjacent = \" + str(((hypotenuse**2) - (opposite_side**2))**0.5))\n",
    "        elif hypotenuse == str(\"x\"):\n",
    "            return (\"Hypotenuse = \" + str(((opposite_side**2) + (adjacent_side**2))**0.5))\n",
    "        else:\n",
    "            return \"This is the answer!\"\n",
    "    \n",
    "print(pythagoras(3,4,'x'))\n",
    "print(pythagoras(3,'x',5))\n",
    "print(pythagoras('x',4,5))\n",
    "print(pythagoras(3,4,5))"
   ]
  },
  {
   "cell_type": "code",
   "execution_count": 16,
   "id": "78f757a2",
   "metadata": {},
   "outputs": [
    {
     "name": "stdout",
     "output_type": "stream",
     "text": [
      "Count of all characters in test_word is :\n",
      " {'f': 2, 'l': 2, 'i': 2, 'p': 2, 'r': 1, 'o': 2, 'b': 1}\n"
     ]
    }
   ],
   "source": [
    "# 15.\tWrite a python program to print the frequency of each of the characters present in a given string.\n",
    "\n",
    "test_word = \"fliproboflip\"\n",
    "   \n",
    "frequency = {}\n",
    "  \n",
    "for i in test_word:\n",
    "    if i in frequency:\n",
    "        frequency[i] += 1\n",
    "    else:\n",
    "        frequency[i] = 1\n",
    "  \n",
    "\n",
    "print (\"Count of all characters in test_word is :\\n \"\n",
    "                                        +  str(frequency))"
   ]
  },
  {
   "cell_type": "code",
   "execution_count": null,
   "id": "6f6e2fb4",
   "metadata": {},
   "outputs": [],
   "source": []
  }
 ],
 "metadata": {
  "kernelspec": {
   "display_name": "Python 3 (ipykernel)",
   "language": "python",
   "name": "python3"
  },
  "language_info": {
   "codemirror_mode": {
    "name": "ipython",
    "version": 3
   },
   "file_extension": ".py",
   "mimetype": "text/x-python",
   "name": "python",
   "nbconvert_exporter": "python",
   "pygments_lexer": "ipython3",
   "version": "3.9.7"
  }
 },
 "nbformat": 4,
 "nbformat_minor": 5
}
