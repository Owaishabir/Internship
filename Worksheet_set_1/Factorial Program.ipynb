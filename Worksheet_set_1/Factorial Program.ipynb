{
 "cells": [
  {
   "cell_type": "code",
   "execution_count": 2,
   "id": "6f8be425",
   "metadata": {},
   "outputs": [
    {
     "name": "stdout",
     "output_type": "stream",
     "text": [
      "enter your number 10\n",
      "Factorial of 10 = 3628800\n"
     ]
    }
   ],
   "source": [
    "number = int(input(\"enter your number \"))\n",
    "factorial = 1\n",
    "\n",
    "if number < 0:\n",
    "   print(\"It is negative number\")\n",
    "elif number == 0:\n",
    "   print(\"zero factorial = 1\")\n",
    "else:\n",
    "   for i in range(1,number + 1):\n",
    "       factorial = factorial*i\n",
    "   print(\"Factorial of\",number,\"=\",factorial)\n"
   ]
  },
  {
   "cell_type": "code",
   "execution_count": null,
   "id": "c6313d49",
   "metadata": {},
   "outputs": [],
   "source": []
  }
 ],
 "metadata": {
  "kernelspec": {
   "display_name": "Python 3 (ipykernel)",
   "language": "python",
   "name": "python3"
  },
  "language_info": {
   "codemirror_mode": {
    "name": "ipython",
    "version": 3
   },
   "file_extension": ".py",
   "mimetype": "text/x-python",
   "name": "python",
   "nbconvert_exporter": "python",
   "pygments_lexer": "ipython3",
   "version": "3.9.7"
  }
 },
 "nbformat": 4,
 "nbformat_minor": 5
}
